{
 "cells": [
  {
   "cell_type": "code",
   "execution_count": 1,
   "metadata": {},
   "outputs": [],
   "source": [
    "import numpy as np"
   ]
  },
  {
   "cell_type": "code",
   "execution_count": 2,
   "metadata": {},
   "outputs": [],
   "source": [
    "def grad1_u(v):\n",
    "    return v"
   ]
  },
  {
   "cell_type": "code",
   "execution_count": 3,
   "metadata": {},
   "outputs": [],
   "source": [
    "def grad2_u(u,v):\n",
    "    return 2*u*grad1_u(v)"
   ]
  },
  {
   "cell_type": "code",
   "execution_count": 4,
   "metadata": {},
   "outputs": [],
   "source": [
    "def grad3_u(u,v):\n",
    "    return 2*(grad1_u(v)**2) + 2*u*grad2_u(u,v)"
   ]
  },
  {
   "cell_type": "code",
   "execution_count": 5,
   "metadata": {},
   "outputs": [],
   "source": [
    "def grad4_u(u,v):\n",
    "    return 6*grad1_u(v)*grad2_u(u,v) + 2*u*grad3_u(u,v)"
   ]
  },
  {
   "cell_type": "code",
   "execution_count": 6,
   "metadata": {},
   "outputs": [],
   "source": [
    "rng = (0,1)"
   ]
  },
  {
   "cell_type": "code",
   "execution_count": 7,
   "metadata": {},
   "outputs": [],
   "source": [
    "u_init = 0.5\n",
    "u_fin = 1\n",
    "s0 = 0.5\n",
    "s1 = 0.1\n",
    "h = 0.25\n",
    "epsilon = 0.005"
   ]
  },
  {
   "cell_type": "code",
   "execution_count": 8,
   "metadata": {},
   "outputs": [],
   "source": [
    "def solver_TS3(init,init_grad,rn=(0,1),h=0.1):\n",
    "    initial,final = rn\n",
    "    N = int((final-initial)/h)\n",
    "    T = np.linspace(initial,final,N)\n",
    "    u_0 = init\n",
    "    u_1 = init_grad\n",
    "    u_plot = []\n",
    "    for i in T:\n",
    "        u_0_1 = u_0 + h*grad1_u(u_1) + (h**2)/2*grad2_u(u_0,u_1) + (h**3)/6*grad3_u(u_0,u_1)\n",
    "        u_1_1 = u_1 + h*grad2_u(u_0,u_1) + (h**2)/2*grad3_u(u_0,u_1) + (h**3)/6*grad4_u(u_0,u_1)\n",
    "        u_0 = u_0_1\n",
    "        u_1 = u_1_1\n",
    "        u_plot.append(u_0.tolist())\n",
    "        \n",
    "    return u_0,u_1,u_plot,T"
   ]
  },
  {
   "cell_type": "code",
   "execution_count": 48,
   "metadata": {},
   "outputs": [],
   "source": [
    "#c_0 = np.array([u_init,u_init])\n",
    "#c_grad = np.array([s0,s1])\n",
    "#ub,ub_grad,u_plt,T_space = solver_TS3(c_0,c_grad,rng,h)\n",
    "#u_plt = np.matrix(u_plt)"
   ]
  },
  {
   "cell_type": "code",
   "execution_count": 9,
   "metadata": {},
   "outputs": [],
   "source": [
    "def solver_secant(s0,s1,h):\n",
    "    c_0 = np.array([u_init,u_init])\n",
    "    c_grad = np.array([s0,s1])\n",
    "    ub,_,_,_ = solver_TS3(c_0,c_grad,rng,h)\n",
    "    phi_s0 = ub[0] - u_fin\n",
    "    phi_s1 = ub[1] - u_fin\n",
    "    #print(phi_s1)\n",
    "    while(abs(phi_s1) >= epsilon):    \n",
    "        s2 = s1 - (s1 - s0)/(phi_s1 - phi_s0)*phi_s1\n",
    "        s0 = s1\n",
    "        s1 = s2\n",
    "        c_grad = np.array([s0,s1])\n",
    "        ub,_,_,_ = solver_TS3(c_0,c_grad,rng,h)\n",
    "        phi_s0 = ub[0] - u_fin\n",
    "        phi_s1 = ub[1] - u_fin\n",
    "        #print(phi_s1,s1)\n",
    "    return solver_TS3(c_0,c_grad,rng,h)\n",
    "    "
   ]
  },
  {
   "cell_type": "code",
   "execution_count": 10,
   "metadata": {},
   "outputs": [],
   "source": [
    "ub,ub_grad,u_plt,T_space = solver_secant(s0,s1,h) \n",
    "_,_,u_plt1,T_space1 = solver_secant(s0,s1,h/4) "
   ]
  },
  {
   "cell_type": "code",
   "execution_count": 11,
   "metadata": {},
   "outputs": [],
   "source": [
    "def func(x):\n",
    "    return 1/(2-x)"
   ]
  },
  {
   "cell_type": "code",
   "execution_count": 12,
   "metadata": {},
   "outputs": [],
   "source": [
    "import matplotlib.pyplot as plt"
   ]
  },
  {
   "cell_type": "code",
   "execution_count": 13,
   "metadata": {},
   "outputs": [
    {
     "data": {
      "image/png": "[encoded data removed]",
      "text/plain": [
       "<Figure size 432x288 with 1 Axes>"
      ]
     },
     "metadata": {},
     "output_type": "display_data"
    }
   ],
   "source": [
    "u_plt = np.matrix(u_plt)\n",
    "u_plt1 = np.matrix(u_plt1)\n",
    "plt.plot(T_space,u_plt[:,0],label=\"Secant_Method(h)\")\n",
    "plt.plot(T_space,func(T_space),label=\"Actual Function\")\n",
    "plt.plot(T_space1,u_plt1[:,0],label=\"Secant_Method(h/4)\")\n",
    "plt.legend(bbox_to_anchor=(1.05, 1), loc=2, borderaxespad=0.)\n",
    "plt.show()"
   ]
  }
 ],
 "metadata": {
  "kernelspec": {
   "display_name": "Python 3",
   "language": "python",
   "name": "python3"
  },
  "language_info": {
   "codemirror_mode": {
    "name": "ipython",
    "version": 3
   },
   "file_extension": ".py",
   "mimetype": "text/x-python",
   "name": "python",
   "nbconvert_exporter": "python",
   "pygments_lexer": "ipython3",
   "version": "3.5.2"
  }
 },
 "nbformat": 4,
 "nbformat_minor": 2
}
