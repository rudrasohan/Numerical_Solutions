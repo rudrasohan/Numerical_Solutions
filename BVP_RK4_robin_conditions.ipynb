{
 "cells": [
  {
   "cell_type": "code",
   "execution_count": 1,
   "metadata": {},
   "outputs": [],
   "source": [
    "import numpy as np"
   ]
  },
  {
   "cell_type": "code",
   "execution_count": 2,
   "metadata": {},
   "outputs": [],
   "source": [
    "def grad1_u(x,u,v): #u'\n",
    "    return v"
   ]
  },
  {
   "cell_type": "code",
   "execution_count": 3,
   "metadata": {},
   "outputs": [],
   "source": [
    "def grad2_u(x,u,v): #u''\n",
    "    return x + v - 2*u"
   ]
  },
  {
   "cell_type": "code",
   "execution_count": 4,
   "metadata": {},
   "outputs": [],
   "source": [
    "rng = (0,1)"
   ]
  },
  {
   "cell_type": "code",
   "execution_count": 5,
   "metadata": {},
   "outputs": [],
   "source": [
    "#a1*U(0) + a2*U`(0) = g1\n",
    "#b1*U(1) + b2*U`(1) = g2"
   ]
  },
  {
   "cell_type": "code",
   "execution_count": 6,
   "metadata": {},
   "outputs": [],
   "source": [
    "def initial_condition(a1,a2,g1):\n",
    "    return (g1/a2),((g1-a1)/a2)"
   ]
  },
  {
   "cell_type": "code",
   "execution_count": 7,
   "metadata": {},
   "outputs": [],
   "source": [
    "#IVP 1 \n",
    "a_0 = 0\n",
    "#IVP 2\n",
    "b_0 = 1\n",
    "a_grad_0,b_grad_0 = initial_condition(1,-1,-1)"
   ]
  },
  {
   "cell_type": "code",
   "execution_count": 8,
   "metadata": {},
   "outputs": [],
   "source": [
    "def solver_RK4(init,init_grad,rn=(0,1),h=0.1):\n",
    "    initial,final = rn\n",
    "    N = int((final - initial)/h)\n",
    "    T = np.linspace(initial,final,N)\n",
    "    u_0 = init\n",
    "    u_1 = init_grad\n",
    "    u_plot = []\n",
    "    for i in T:\n",
    "        k1 = h*grad1_u(i,u_0,u_1)\n",
    "        l1 = h*grad2_u(i,u_0,u_1)\n",
    "        k2 = h*grad1_u((i+h/2),(u_0+k1/2),(u_1+l1/2))\n",
    "        l2 = h*grad2_u((i+h/2),(u_0+k1/2),(u_1+l1/2))\n",
    "        k3 = h*grad1_u((i+h/2),(u_0+k2/2),(u_1+l2/2))\n",
    "        l3 = h*grad2_u((i+h/2),(u_0+k2/2),(u_1+l2/2))\n",
    "        k4 = h*grad1_u((i+h),(u_0+k3),(u_1+l3))\n",
    "        l4 = h*grad2_u((i+h),(u_0+k3),(u_1+l3))\n",
    "        u_0 = u_0 + 1/6.0*(k1+2*k2+2*k3+k4)\n",
    "        u_1 = u_1 + 1/6.0*(l1+2*l2+2*l3+l4)\n",
    "        #print(u_0,u_1)\n",
    "        u_plot.append(u_0.tolist())\n",
    "    \n",
    "    print(\"u=\",u_0)\n",
    "    print(\"u'=\",u_1)\n",
    "    return u_0,u_1,u_plot,T"
   ]
  },
  {
   "cell_type": "code",
   "execution_count": 9,
   "metadata": {},
   "outputs": [
    {
     "name": "stdout",
     "output_type": "stream",
     "text": [
      "u= [1.40593402 2.41461651]\n",
      "u'= [1.6144433  0.20670636]\n"
     ]
    }
   ],
   "source": [
    "c_0 = np.array([a_0,b_0])\n",
    "c_grad = np.array([a_grad_0,b_grad_0])\n",
    "ub,ub_grad,u_plt,T_space = solver_RK4(c_0,c_grad,rng,0.01)\n",
    "u_plt = np.matrix(u_plt)"
   ]
  },
  {
   "cell_type": "code",
   "execution_count": 10,
   "metadata": {},
   "outputs": [],
   "source": [
    "def u_final(lamda,u):\n",
    "    return lamda*u[:,0] + (1-lamda)*u[:,1]"
   ]
  },
  {
   "cell_type": "code",
   "execution_count": 11,
   "metadata": {},
   "outputs": [],
   "source": [
    "def boundary_condition(u,u_grad,b1,b2,g2):\n",
    "    return (g2 - u[1]*b1 - u_grad[1]*b2)/((u[0]-u[1])*b1 + (u_grad[0]-u_grad[1])*b2)"
   ]
  },
  {
   "cell_type": "code",
   "execution_count": 12,
   "metadata": {},
   "outputs": [],
   "source": [
    "lamda = boundary_condition(ub,ub_grad,1,1,-2)"
   ]
  },
  {
   "cell_type": "code",
   "execution_count": 13,
   "metadata": {},
   "outputs": [],
   "source": [
    "U = u_final(lamda,u_plt)"
   ]
  },
  {
   "cell_type": "code",
   "execution_count": 14,
   "metadata": {},
   "outputs": [],
   "source": [
    "import matplotlib.pyplot as plt"
   ]
  },
  {
   "cell_type": "code",
   "execution_count": 15,
   "metadata": {
    "scrolled": true
   },
   "outputs": [
    {
     "data": {
      "image/png": "[encoded data removed]",
      "text/plain": [
       "<Figure size 432x288 with 1 Axes>"
      ]
     },
     "metadata": {},
     "output_type": "display_data"
    }
   ],
   "source": [
    "plt.plot(T_space,u_plt[:,0],label=\"u1\")\n",
    "plt.plot(T_space,u_plt[:,1],label=\"u2\")\n",
    "plt.legend(bbox_to_anchor=(1.05, 1), loc=2, borderaxespad=0.)\n",
    "plt.show()"
   ]
  },
  {
   "cell_type": "code",
   "execution_count": 16,
   "metadata": {},
   "outputs": [
    {
     "data": {
      "image/png": "[encoded data removed]",
      "text/plain": [
       "<Figure size 432x288 with 1 Axes>"
      ]
     },
     "metadata": {},
     "output_type": "display_data"
    }
   ],
   "source": [
    "plt.gcf().clear()\n",
    "plt.plot(T_space,U,label=\"U\")\n",
    "plt.legend(bbox_to_anchor=(1.05, 1), loc=2, borderaxespad=0.)\n",
    "plt.show()"
   ]
  }
 ],
 "metadata": {
  "kernelspec": {
   "display_name": "Python 3",
   "language": "python",
   "name": "python3"
  },
  "language_info": {
   "codemirror_mode": {
    "name": "ipython",
    "version": 3
   },
   "file_extension": ".py",
   "mimetype": "text/x-python",
   "name": "python",
   "nbconvert_exporter": "python",
   "pygments_lexer": "ipython3",
   "version": "3.5.2"
  }
 },
 "nbformat": 4,
 "nbformat_minor": 2
}
